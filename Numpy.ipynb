{
 "cells": [
  {
   "cell_type": "markdown",
   "id": "d54c1541-2eab-4bde-90a2-5f49301fac1f",
   "metadata": {},
   "source": [
    "# <en><center>Numpy</center></en>"
   ]
  },
  {
   "cell_type": "markdown",
   "id": "7b7753e3-2d05-43de-b1bd-bb7e5aff11dd",
   "metadata": {},
   "source": [
    "## Arrays"
   ]
  },
  {
   "cell_type": "code",
   "execution_count": 2,
   "id": "5aa6b9af-c5ba-4d14-8b41-b2ac532a3d1f",
   "metadata": {},
   "outputs": [],
   "source": [
    "import numpy as np"
   ]
  },
  {
   "attachments": {
    "e81aa28b-abd2-4f32-a9db-e2ac4259b9b7.png": {
     "image/png": "[encoded data removed]"
    }
   },
   "cell_type": "markdown",
   "id": "74753e00-26f0-46bd-a357-5d6a4bd96330",
   "metadata": {},
   "source": [
    "![Purple to Blue Gradient.png](attachment:e81aa28b-abd2-4f32-a9db-e2ac4259b9b7.png)"
   ]
  },
  {
   "cell_type": "code",
   "execution_count": 1,
   "id": "3bcac8ec-a128-4d13-929f-33e7e8978420",
   "metadata": {},
   "outputs": [],
   "source": [
    "my_list = [1,2,3]"
   ]
  },
  {
   "cell_type": "code",
   "execution_count": 3,
   "id": "8d4a8a3e-bc49-4461-be93-a439f89d076e",
   "metadata": {},
   "outputs": [],
   "source": [
    "arr = np.array(my_list)"
   ]
  },
  {
   "cell_type": "code",
   "execution_count": 4,
   "id": "f39e0cad-6d03-4006-aa56-9bd67782cdea",
   "metadata": {},
   "outputs": [
    {
     "data": {
      "text/plain": [
       "array([1, 2, 3])"
      ]
     },
     "execution_count": 4,
     "metadata": {},
     "output_type": "execute_result"
    }
   ],
   "source": [
    "arr"
   ]
  },
  {
   "cell_type": "code",
   "execution_count": 2,
   "id": "95092476-bfe9-4eba-9c84-1a104036a742",
   "metadata": {},
   "outputs": [],
   "source": [
    "my_mat = [[1,2,3],[4,5,6],[7,8,9]]"
   ]
  },
  {
   "cell_type": "code",
   "execution_count": 3,
   "id": "73d6bc6a-f471-4e6c-8acc-182324843e1b",
   "metadata": {},
   "outputs": [
    {
     "data": {
      "text/plain": [
       "array([[1, 2, 3],\n",
       "       [4, 5, 6],\n",
       "       [7, 8, 9]])"
      ]
     },
     "execution_count": 3,
     "metadata": {},
     "output_type": "execute_result"
    }
   ],
   "source": [
    "np.array(my_mat)"
   ]
  },
  {
   "cell_type": "markdown",
   "id": "e6d03e18-67cd-4ab0-be18-a41ad6feeba0",
   "metadata": {},
   "source": [
    "#### Create an array easily using the arange method.\n",
    "- The arange method includes the first argument and excludes the last argument."
   ]
  },
  {
   "cell_type": "code",
   "execution_count": 4,
   "id": "fb088593-4950-41bf-a95e-56a6fd144292",
   "metadata": {},
   "outputs": [
    {
     "data": {
      "text/plain": [
       "array([0, 1, 2, 3, 4, 5, 6, 7, 8, 9])"
      ]
     },
     "execution_count": 4,
     "metadata": {},
     "output_type": "execute_result"
    }
   ],
   "source": [
    "np.arange(0,10)"
   ]
  },
  {
   "cell_type": "code",
   "execution_count": 5,
   "id": "2483b1de-20f3-4e29-9642-78fc7c3d5ea3",
   "metadata": {},
   "outputs": [
    {
     "data": {
      "text/plain": [
       "array([ 0,  1,  2,  3,  4,  5,  6,  7,  8,  9, 10])"
      ]
     },
     "execution_count": 5,
     "metadata": {},
     "output_type": "execute_result"
    }
   ],
   "source": [
    "np.arange(0,11)"
   ]
  },
  {
   "cell_type": "code",
   "execution_count": 6,
   "id": "8f4be9b8-2179-4b53-b36c-bef9b8dfc328",
   "metadata": {},
   "outputs": [
    {
     "data": {
      "text/plain": [
       "array([ 0,  2,  4,  6,  8, 10])"
      ]
     },
     "execution_count": 6,
     "metadata": {},
     "output_type": "execute_result"
    }
   ],
   "source": [
    "np.arange(0,11,2)"
   ]
  },
  {
   "cell_type": "code",
   "execution_count": 8,
   "id": "508a74bb-bc48-43dd-a890-31ce48a9baff",
   "metadata": {},
   "outputs": [
    {
     "data": {
      "text/plain": [
       "array([0., 0., 0.])"
      ]
     },
     "execution_count": 8,
     "metadata": {},
     "output_type": "execute_result"
    }
   ],
   "source": [
    "np.zeros(3)"
   ]
  },
  {
   "cell_type": "code",
   "execution_count": 9,
   "id": "fa990f9f-3e00-41ff-af37-9922a5ca675f",
   "metadata": {},
   "outputs": [
    {
     "data": {
      "text/plain": [
       "array([[0., 0., 0., 0., 0.],\n",
       "       [0., 0., 0., 0., 0.],\n",
       "       [0., 0., 0., 0., 0.]])"
      ]
     },
     "execution_count": 9,
     "metadata": {},
     "output_type": "execute_result"
    }
   ],
   "source": [
    "np.zeros((3,5))"
   ]
  },
  {
   "cell_type": "code",
   "execution_count": 10,
   "id": "9d824d00-1eb1-45d0-8e7d-b27722f6d199",
   "metadata": {},
   "outputs": [
    {
     "data": {
      "text/plain": [
       "array([1., 1., 1.])"
      ]
     },
     "execution_count": 10,
     "metadata": {},
     "output_type": "execute_result"
    }
   ],
   "source": [
    "np.ones(3)"
   ]
  },
  {
   "cell_type": "code",
   "execution_count": 11,
   "id": "f3d97191-4870-4fee-9e16-86df5a0f5083",
   "metadata": {},
   "outputs": [
    {
     "data": {
      "text/plain": [
       "array([[1., 1., 1., 1.],\n",
       "       [1., 1., 1., 1.],\n",
       "       [1., 1., 1., 1.]])"
      ]
     },
     "execution_count": 11,
     "metadata": {},
     "output_type": "execute_result"
    }
   ],
   "source": [
    "np.ones((3,4))"
   ]
  },
  {
   "cell_type": "markdown",
   "id": "4117bbb4-e60e-4c40-a794-b0822f5f9924",
   "metadata": {},
   "source": [
    "Linspace creates equally spaced points within the range of its arguments."
   ]
  },
  {
   "cell_type": "code",
   "execution_count": 13,
   "id": "9f687b1f-d4bc-486e-ba16-bfc4519e0b29",
   "metadata": {},
   "outputs": [
    {
     "data": {
      "text/plain": [
       "array([0.        , 0.55555556, 1.11111111, 1.66666667, 2.22222222,\n",
       "       2.77777778, 3.33333333, 3.88888889, 4.44444444, 5.        ])"
      ]
     },
     "execution_count": 13,
     "metadata": {},
     "output_type": "execute_result"
    }
   ],
   "source": [
    "np.linspace(0,5,10)"
   ]
  },
  {
   "cell_type": "markdown",
   "id": "13cd07ac-0953-4417-a6f0-39bdb0e88cea",
   "metadata": {},
   "source": [
    "Create an identity matrix"
   ]
  },
  {
   "cell_type": "code",
   "execution_count": 15,
   "id": "773703c2-4503-490d-87b6-e1613701482d",
   "metadata": {},
   "outputs": [
    {
     "data": {
      "text/plain": [
       "array([[1., 0., 0., 0., 0.],\n",
       "       [0., 1., 0., 0., 0.],\n",
       "       [0., 0., 1., 0., 0.],\n",
       "       [0., 0., 0., 1., 0.],\n",
       "       [0., 0., 0., 0., 1.]])"
      ]
     },
     "execution_count": 15,
     "metadata": {},
     "output_type": "execute_result"
    }
   ],
   "source": [
    "np.eye(5)"
   ]
  },
  {
   "cell_type": "markdown",
   "id": "5cb39a99-8dd5-4380-b0e5-7e68b9f3d6db",
   "metadata": {},
   "source": [
    "Random numbers from normal distribution"
   ]
  },
  {
   "cell_type": "code",
   "execution_count": 3,
   "id": "8a2aeba6-ecb9-47d9-9dbb-c1de95148b6b",
   "metadata": {},
   "outputs": [
    {
     "data": {
      "text/plain": [
       "array([0.74721605, 0.1568564 , 0.41029463, 0.91499141, 0.44526581])"
      ]
     },
     "execution_count": 3,
     "metadata": {},
     "output_type": "execute_result"
    }
   ],
   "source": [
    "np.random.rand(5)"
   ]
  },
  {
   "cell_type": "code",
   "execution_count": 4,
   "id": "0bf54a7c-9b29-40bc-ad6f-93b612f60613",
   "metadata": {},
   "outputs": [
    {
     "data": {
      "text/plain": [
       "array([[0.14792343, 0.4826661 , 0.48174503, 0.70894866, 0.51809782],\n",
       "       [0.69525185, 0.21305663, 0.37844927, 0.71671664, 0.21363081],\n",
       "       [0.35559307, 0.14801723, 0.9960647 , 0.49352544, 0.89661803],\n",
       "       [0.32214455, 0.96994463, 0.58421164, 0.87713089, 0.77847471],\n",
       "       [0.8998978 , 0.51052172, 0.25596117, 0.82820607, 0.51510065]])"
      ]
     },
     "execution_count": 4,
     "metadata": {},
     "output_type": "execute_result"
    }
   ],
   "source": [
    "np.random.rand(5,5)"
   ]
  },
  {
   "cell_type": "markdown",
   "id": "0124d997-7c67-494e-a411-44dddda37e9e",
   "metadata": {},
   "source": [
    "Gaussian Standard Normal distribution"
   ]
  },
  {
   "cell_type": "code",
   "execution_count": 5,
   "id": "d74bf415-2ca5-4a8d-a6f4-738a2a41ebda",
   "metadata": {},
   "outputs": [
    {
     "data": {
      "text/plain": [
       "array([ 1.58874009, -1.00180978])"
      ]
     },
     "execution_count": 5,
     "metadata": {},
     "output_type": "execute_result"
    }
   ],
   "source": [
    "np.random.randn(2)"
   ]
  },
  {
   "cell_type": "code",
   "execution_count": 6,
   "id": "a4ec303e-7c1f-435e-b61e-f5c3dda60732",
   "metadata": {},
   "outputs": [
    {
     "data": {
      "text/plain": [
       "array([[-0.03038114, -0.33917922,  0.94214225, -1.00648618],\n",
       "       [-1.36141237, -1.06591034, -1.31592822, -0.17425413],\n",
       "       [-0.03213984, -1.25970099, -2.05875881,  0.12218077],\n",
       "       [-0.00789686,  0.89881514, -0.28021373, -1.08659917]])"
      ]
     },
     "execution_count": 6,
     "metadata": {},
     "output_type": "execute_result"
    }
   ],
   "source": [
    "np.random.randn(4,4)"
   ]
  },
  {
   "cell_type": "code",
   "execution_count": 7,
   "id": "1a837d51-5569-4136-83e1-3c2742dd9799",
   "metadata": {},
   "outputs": [
    {
     "data": {
      "text/plain": [
       "array([76, 12,  1,  1, 11,  7, 75,  3, 52, 92])"
      ]
     },
     "execution_count": 7,
     "metadata": {},
     "output_type": "execute_result"
    }
   ],
   "source": [
    "np.random.randint(1,100,10)"
   ]
  },
  {
   "cell_type": "code",
   "execution_count": 8,
   "id": "123a75f1-199a-4f2f-b679-50762b6ff5b6",
   "metadata": {},
   "outputs": [
    {
     "data": {
      "text/plain": [
       "array([ 0,  1,  2,  3,  4,  5,  6,  7,  8,  9, 10, 11, 12, 13, 14, 15, 16,\n",
       "       17, 18, 19, 20, 21, 22, 23, 24])"
      ]
     },
     "execution_count": 8,
     "metadata": {},
     "output_type": "execute_result"
    }
   ],
   "source": [
    "arr = np.arange(25)\n",
    "arr"
   ]
  },
  {
   "cell_type": "code",
   "execution_count": 10,
   "id": "c66cc4a3-fa3f-4082-8c11-957ab578c845",
   "metadata": {},
   "outputs": [
    {
     "data": {
      "text/plain": [
       "array([42,  3,  6, 21, 12, 49, 45, 39, 38, 37])"
      ]
     },
     "execution_count": 10,
     "metadata": {},
     "output_type": "execute_result"
    }
   ],
   "source": [
    "ranarr = np.random.randint(0,50,10)\n",
    "ranarr"
   ]
  },
  {
   "cell_type": "code",
   "execution_count": 11,
   "id": "c23a435f-882d-4ae0-b0ee-0e22e5b344c6",
   "metadata": {},
   "outputs": [
    {
     "data": {
      "text/plain": [
       "array([[ 0,  1,  2,  3,  4],\n",
       "       [ 5,  6,  7,  8,  9],\n",
       "       [10, 11, 12, 13, 14],\n",
       "       [15, 16, 17, 18, 19],\n",
       "       [20, 21, 22, 23, 24]])"
      ]
     },
     "execution_count": 11,
     "metadata": {},
     "output_type": "execute_result"
    }
   ],
   "source": [
    "arr.reshape(5,5)"
   ]
  },
  {
   "cell_type": "code",
   "execution_count": 12,
   "id": "2e0db33d-1019-450a-abd2-cbed7d15b698",
   "metadata": {},
   "outputs": [
    {
     "data": {
      "text/plain": [
       "49"
      ]
     },
     "execution_count": 12,
     "metadata": {},
     "output_type": "execute_result"
    }
   ],
   "source": [
    "ranarr.max()"
   ]
  },
  {
   "cell_type": "code",
   "execution_count": 13,
   "id": "5d3ed98e-2505-4778-80f0-8205dd55d177",
   "metadata": {},
   "outputs": [
    {
     "data": {
      "text/plain": [
       "3"
      ]
     },
     "execution_count": 13,
     "metadata": {},
     "output_type": "execute_result"
    }
   ],
   "source": [
    "ranarr.min()"
   ]
  },
  {
   "cell_type": "markdown",
   "id": "72e892ae-8518-4d87-829d-8358eb1afbd1",
   "metadata": {},
   "source": [
    "Use argmax or argmin to find the index location of the max and min values in an array."
   ]
  },
  {
   "cell_type": "code",
   "execution_count": null,
   "id": "22fca91e-545d-4912-abd0-b4954b8fa16a",
   "metadata": {},
   "outputs": [],
   "source": []
  }
 ],
 "metadata": {
  "kernelspec": {
   "display_name": "Python 3 (ipykernel)",
   "language": "python",
   "name": "python3"
  },
  "language_info": {
   "codemirror_mode": {
    "name": "ipython",
    "version": 3
   },
   "file_extension": ".py",
   "mimetype": "text/x-python",
   "name": "python",
   "nbconvert_exporter": "python",
   "pygments_lexer": "ipython3",
   "version": "3.9.12"
  }
 },
 "nbformat": 4,
 "nbformat_minor": 5
}
